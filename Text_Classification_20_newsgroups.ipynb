{
 "cells": [
  {
   "cell_type": "code",
   "execution_count": 17,
   "metadata": {},
   "outputs": [],
   "source": [
    "import numpy as np\n",
    "import time"
   ]
  },
  {
   "cell_type": "code",
   "execution_count": 18,
   "metadata": {},
   "outputs": [],
   "source": [
    "def make_dict(file_data,all_words):\n",
    "    for word in file_data.split():\n",
    "            if(len(word)>2):\n",
    "                all_words[word]=all_words.get(word,0)+1\n",
    "    return all_words\n",
    "\n",
    "def process_file_data(file_data):\n",
    "        file_data=file_data.replace(\"[\",\" \")\n",
    "        file_data=file_data.replace(\"]\",\" \")\n",
    "        file_data=file_data.replace(\"\\n\",\" \")\n",
    "        file_data=file_data.replace(\"-\",\" \")\n",
    "        file_data=file_data.replace(\"'\",\" \")\n",
    "        file_data=re.sub('[:<>}/\\\\''^&;\"\",)*_#=(?.!|]', ' ', file_data)\n",
    "        file_data=file_data.lower() #to lower case\n",
    "        \n",
    "        file_data=' '.join(file_data.split())#remove extras spaces in betwen\n",
    "        #print(file_data)\n",
    "        return file_data\n",
    "\n",
    "def remove_stopwords(all_words):\n",
    "    stopwords_1=stopwords.words('english')\n",
    "    stopwords_2=['a', 'about', 'above', 'across', 'after', 'afterwards', 'again', 'against', 'all', 'almost', 'alone',\n",
    "             'along', 'already', 'also', 'although', 'always', 'am', 'among', 'amongst', 'amoungst', 'amount',\n",
    "             'an', 'and', 'another', 'any', 'anyhow', 'anyone', 'anything', 'anyway', 'anywhere', 'are', 'around',\n",
    "             'as', 'at', 'back', 'be', 'became', 'because', 'become', 'becomes', 'becoming', 'been', 'before',\n",
    "             'beforehand', 'behind', 'being', 'below', 'beside', 'besides', 'between', 'beyond', 'bill', 'both',\n",
    "             'bottom', 'but', 'by', 'call', 'can', 'cannot', 'cant', 'co', 'con', 'could', 'couldnt', 'cry', 'de',\n",
    "             'describe', 'detail', 'did', 'do', 'does', 'doing', 'don', 'done', 'down', 'due', 'during', 'each', 'eg',\n",
    "             'eight', 'either', 'eleven', 'else', 'elsewhere', 'empty', 'enough', 'etc', 'even', 'ever', 'every', 'everyone',\n",
    "             'everything', 'everywhere', 'except', 'few', 'fifteen', 'fify', 'fill', 'find', 'fire', 'first', 'five', 'for',\n",
    "             'former', 'formerly', 'forty', 'found', 'four', 'from', 'front', 'full', 'further', 'get', 'give', 'go', 'had',\n",
    "             'has', 'hasnt', 'have', 'having', 'he', 'hence', 'her', 'here', 'hereafter', 'hereby', 'herein', 'hereupon',\n",
    "             'hers', 'herself', 'him', 'himself', 'his', 'how', 'however', 'hundred', 'i', 'ie', 'if', 'in', 'inc', 'indeed',\n",
    "             'interest', 'into', 'is', 'it', 'its', 'itself', 'just', 'keep', 'last', 'latter', 'latterly', 'least', 'less',\n",
    "             'ltd', 'made', 'many', 'may', 'me', 'meanwhile', 'might', 'mill', 'mine', 'more', 'moreover', 'most', 'mostly',\n",
    "             'move', 'much', 'must', 'my', 'myself', 'name', 'namely', 'neither', 'never', 'nevertheless', 'next', 'nine',\n",
    "             'no', 'nobody', 'none', 'noone', 'nor', 'not', 'nothing', 'now', 'nowhere', 'of', 'off', 'often', 'on', 'once',\n",
    "             'one', 'only', 'onto', 'or', 'other', 'others', 'otherwise', 'our', 'ours', 'ourselves', 'out', 'over', 'own',\n",
    "             'part', 'per', 'perhaps', 'please', 'put', 'rather', 're', 's', 'same', 'see', 'seem', 'seemed', 'seeming',\n",
    "             'seems', 'serious', 'several', 'she', 'should', 'show', 'side', 'since', 'sincere', 'six', 'sixty', 'so', \n",
    "             'some', 'somehow', 'someone', 'something', 'sometime', 'sometimes', 'somewhere', 'still', 'such', 'system',\n",
    "             't', 'take', 'ten', 'than', 'that', 'the', 'their', 'theirs', 'them', 'themselves', 'then', 'thence', 'there',\n",
    "             'thereafter', 'thereby', 'therefore', 'therein', 'thereupon', 'these', 'they', 'thickv', 'thin', 'third', 'this',\n",
    "             'those', 'though', 'three', 'through', 'throughout', 'thru', 'thus', 'to', 'together', 'too', 'top', 'toward',\n",
    "             'towards', 'twelve', 'twenty', 'two', 'un', 'under', 'until', 'up', 'upon', 'us', 'very', 'via', 'was', 'we',\n",
    "             'well', 'were', 'what', 'whatever', 'when', 'whence', 'whenever', 'where', 'whereafter', 'whereas', 'whereby',\n",
    "             'wherein', 'whereupon', 'wherever', 'whether', 'which', 'while', 'whither', 'who', 'whoever', 'whole', 'whom',\n",
    "             'whose', 'why', 'will', 'with', 'within', 'without', 'would', 'yet', 'you', 'your', 'yours', 'yourself',\n",
    "             'yourselves']\n",
    "    stopwords_3=[\"edu\",\"cmu\",\"apr\",\"date\",\"newsgroups\",\"organization\",\"writes\",\"about\",\n",
    "                    \"article\",\"misc\",\"than\",\"com\",\"srv\",\"cantaloupe\",\"das\",]\n",
    "    stopwords_list=[stopwords_1,stopwords_2,stopwords_3]\n",
    "    for curr_list in stopwords_list:\n",
    "        for curr_word in curr_list:\n",
    "            if curr_word in all_words.keys():\n",
    "                del all_words[curr_word]\n",
    "  \n",
    "    all_words=sorted(all_words.items(), key=lambda x: x[1],reverse=True)\n",
    "    return all_words    "
   ]
  },
  {
   "cell_type": "code",
   "execution_count": 19,
   "metadata": {},
   "outputs": [],
   "source": [
    "all_words={}\n",
    "import re\n",
    "import os\n",
    "from nltk.corpus import stopwords\n",
    "\n",
    "rootdir='C:\\\\Users\\\\Dhivya S\\\\Videos\\\\Captures\\\\TextClassification\\\\20_newsgroups'\n",
    "\n",
    "for subdir, dirs, files in os.walk(rootdir):\n",
    "    category=subdir.replace(rootdir+\"\\\\\",\"\") # y value for corresponsing files\n",
    "    for file in files:\n",
    "        file_location=os.path.join(subdir, file)\n",
    "        file_obj=open(file_location,'r')\n",
    "        file_data=file_obj.read()\n",
    "        file_data=process_file_data(file_data)\n",
    "        all_words=make_dict(file_data,all_words) \n",
    "useful_words=remove_stopwords(all_words)         "
   ]
  },
  {
   "cell_type": "code",
   "execution_count": 20,
   "metadata": {
    "scrolled": false
   },
   "outputs": [
    {
     "data": {
      "text/plain": [
       "[<matplotlib.lines.Line2D at 0x29e999e82c8>]"
      ]
     },
     "execution_count": 20,
     "metadata": {},
     "output_type": "execute_result"
    },
    {
     "data": {
      "image/png": "[encoded data removed]",
      "text/plain": [
       "<Figure size 432x288 with 1 Axes>"
      ]
     },
     "metadata": {
      "needs_background": "light"
     },
     "output_type": "display_data"
    }
   ],
   "source": [
    "import matplotlib.pyplot as plt\n",
    "vocabulary=[]\n",
    "pts=[]\n",
    "for i in range(3500): #choosing top 3500 words as vocabulary\n",
    "    vocabulary.append(useful_words[i][0])\n",
    "    pts.append(useful_words[i][1])\n",
    "plt.plot(pts)"
   ]
  },
  {
   "cell_type": "code",
   "execution_count": 21,
   "metadata": {},
   "outputs": [],
   "source": [
    "#making a base of first numpy array for data points and output\n",
    "first_file_loc='C:\\\\Users\\\\Dhivya S\\\\Videos\\\\Captures\\\\TextClassification\\\\20_newsgroups\\\\alt.atheism\\\\49960'\n",
    "file_obj=open(first_file_loc,'r')\n",
    "file_data=file_obj.read()\n",
    "file_data=process_file_data(file_data)\n",
    "x=[]\n",
    "for vocab in vocabulary:\n",
    "    count=file_data.count(' '+vocab+' ') #find the frequency of the word in the file and append the count\n",
    "    x.append(count)             \n",
    "y_list=['alt.atheism'] #base for output data numpy array    "
   ]
  },
  {
   "cell_type": "code",
   "execution_count": 22,
   "metadata": {
    "scrolled": true
   },
   "outputs": [],
   "source": [
    "rootdir='C:\\\\Users\\\\Dhivya S\\\\Videos\\\\Captures\\\\TextClassification\\\\20_newsgroups'\n",
    "for subdir, dirs, files in os.walk(rootdir):\n",
    "    category=subdir.replace(rootdir+\"\\\\\",\"\") # y value for corresponsing files\n",
    "    for file in files:\n",
    "        y_list.append(category)\n",
    "        file_location=os.path.join(subdir, file)\n",
    "        file_obj=open(file_location,'r')\n",
    "        file_data=file_obj.read()\n",
    "        file_data=process_file_data(file_data)\n",
    "        x1=[]\n",
    "        for vocab in vocabulary:\n",
    "            count=file_data.count(' '+vocab+' ')\n",
    "            x1.append(count) \n",
    "        x=np.vstack([x,x1])\n",
    "y=np.array(y_list)       "
   ]
  },
  {
   "cell_type": "code",
   "execution_count": 23,
   "metadata": {},
   "outputs": [
    {
     "data": {
      "text/plain": [
       "((19998, 3500), 19998)"
      ]
     },
     "execution_count": 23,
     "metadata": {},
     "output_type": "execute_result"
    }
   ],
   "source": [
    "x.shape,len(y) #shape of data numpy arrays and output numpy arrays"
   ]
  },
  {
   "cell_type": "code",
   "execution_count": 24,
   "metadata": {},
   "outputs": [
    {
     "data": {
      "text/plain": [
       "array([ 0,  0,  0, ..., 19, 19, 19], dtype=int64)"
      ]
     },
     "execution_count": 24,
     "metadata": {},
     "output_type": "execute_result"
    }
   ],
   "source": [
    "from sklearn import preprocessing\n",
    "le = preprocessing.LabelEncoder()\n",
    "le.fit(y)\n",
    "#list(le.classes_)  \n",
    "y=le.transform(y)  #to encode the class names (strings) to integers for feeding into the model\n",
    "y"
   ]
  },
  {
   "cell_type": "code",
   "execution_count": 25,
   "metadata": {},
   "outputs": [],
   "source": [
    "from sklearn import model_selection\n",
    "X_train,X_test,Y_train,Y_test = model_selection.train_test_split(x,y,test_size=0.25)"
   ]
  },
  {
   "cell_type": "code",
   "execution_count": 26,
   "metadata": {},
   "outputs": [],
   "source": [
    "#IMPLEMENTING MULTINOMIAL NAIVE BAYES FROM SCRATCH"
   ]
  },
  {
   "cell_type": "code",
   "execution_count": 29,
   "metadata": {},
   "outputs": [],
   "source": [
    "def fit(x_train,y_train): \n",
    "    result={}\n",
    "    class_values=set(y_train)\n",
    "    for current_class in class_values:\n",
    "        result[current_class] = {}\n",
    "        result[\"total_data\"]=len(y_train)\n",
    "        current_class_rows=(y_train==current_class)\n",
    "        x_train_current=x_train[current_class_rows]\n",
    "        y_train_current=y_train[current_class_rows]\n",
    "        num_features = x_train.shape[1]\n",
    "        result[current_class][\"total_count\"] = len(y_train_current)  #total rows present for given class\n",
    "        for j in range(1, num_features + 1):\n",
    "            result[current_class][j] =x_train_current[:,j-1].sum()    #sum of each feature of the given class =(sj)      \n",
    "    return result  \n",
    "\n",
    "def probability(dictionary, x, current_class):\n",
    "    log_prob = np.log(dictionary[current_class][\"total_count\"]) - np.log(dictionary[\"total_data\"])\n",
    "    num_features = len(dictionary[current_class].keys())-2 \n",
    "    for j in range(1, num_features):\n",
    "        word_count_for_feature=dictionary[current_class][j]+1 #retrieving sum of ocuurances of the particular vocabulary/feature\n",
    "        total_rows_in_class=dictionary[current_class][\"total_count\"]+num_features\n",
    "        current_feature_probablity = np.log(word_count_for_feature) - np.log(total_rows_in_class)\n",
    "        log_prob=log_prob + current_feature_probablity*x[j - 1]       \n",
    "    return log_prob\n",
    "\n",
    "def predictSingleFile(dictionary, x):\n",
    "    classes = dictionary.keys()\n",
    "    best_p = -1000\n",
    "    best_class = -1\n",
    "    first_run = True\n",
    "    for current_class in classes:\n",
    "        if (current_class == \"total_data\"):\n",
    "            continue\n",
    "        p_current_class = probability(dictionary, x, current_class)\n",
    "        if (first_run) or (p_current_class > best_p):\n",
    "            best_p = p_current_class\n",
    "            best_class = current_class\n",
    "        first_run = False\n",
    "    return best_class\n",
    "\n",
    "def predict(dictionary, x_test):\n",
    "    y_pred = []\n",
    "    for x in x_test:\n",
    "        x_class = predictSingleFile(dictionary, x)\n",
    "        y_pred.append(x_class)\n",
    "    return y_pred"
   ]
  },
  {
   "cell_type": "code",
   "execution_count": 30,
   "metadata": {},
   "outputs": [
    {
     "name": "stdout",
     "output_type": "stream",
     "text": [
      "Fitted\n",
      "Predicted\n"
     ]
    }
   ],
   "source": [
    "dictionary = fit(X_train,Y_train)\n",
    "print(\"Fitted\")\n",
    "Y_pred = predict(dictionary,X_test)\n",
    "print(\"Predicted\")"
   ]
  },
  {
   "cell_type": "code",
   "execution_count": 31,
   "metadata": {},
   "outputs": [
    {
     "name": "stdout",
     "output_type": "stream",
     "text": [
      "              precision    recall  f1-score   support\n",
      "\n",
      "           0       0.81      0.82      0.81       233\n",
      "           1       0.70      0.82      0.76       261\n",
      "           2       0.94      0.53      0.68       257\n",
      "           3       0.78      0.81      0.79       242\n",
      "           4       0.91      0.82      0.86       268\n",
      "           5       0.62      0.85      0.72       232\n",
      "           6       0.94      0.71      0.81       277\n",
      "           7       0.93      0.84      0.88       266\n",
      "           8       0.97      0.85      0.91       253\n",
      "           9       1.00      0.85      0.92       250\n",
      "          10       0.91      0.98      0.94       257\n",
      "          11       0.78      1.00      0.87       240\n",
      "          12       0.94      0.63      0.75       256\n",
      "          13       0.96      0.89      0.92       219\n",
      "          14       0.80      0.92      0.86       234\n",
      "          15       0.97      1.00      0.99       261\n",
      "          16       0.82      0.84      0.83       261\n",
      "          17       0.68      0.97      0.80       228\n",
      "          18       0.64      0.84      0.72       259\n",
      "          19       0.71      0.55      0.62       246\n",
      "\n",
      "    accuracy                           0.82      5000\n",
      "   macro avg       0.84      0.83      0.82      5000\n",
      "weighted avg       0.84      0.82      0.82      5000\n",
      "\n"
     ]
    }
   ],
   "source": [
    "from sklearn.metrics import classification_report, confusion_matrix\n",
    "print(classification_report(Y_test,Y_pred))"
   ]
  },
  {
   "cell_type": "code",
   "execution_count": null,
   "metadata": {},
   "outputs": [],
   "source": [
    "#MULTINOMIAL BAYES USING SKLEARN"
   ]
  },
  {
   "cell_type": "code",
   "execution_count": 32,
   "metadata": {},
   "outputs": [
    {
     "name": "stdout",
     "output_type": "stream",
     "text": [
      "              precision    recall  f1-score   support\n",
      "\n",
      "           0       0.79      0.86      0.82       233\n",
      "           1       0.76      0.77      0.77       261\n",
      "           2       0.90      0.71      0.79       257\n",
      "           3       0.72      0.83      0.77       242\n",
      "           4       0.79      0.89      0.83       268\n",
      "           5       0.81      0.74      0.77       232\n",
      "           6       0.88      0.91      0.89       277\n",
      "           7       0.90      0.94      0.92       266\n",
      "           8       0.92      0.97      0.95       253\n",
      "           9       0.96      0.95      0.96       250\n",
      "          10       0.97      0.95      0.96       257\n",
      "          11       0.99      0.95      0.97       240\n",
      "          12       0.91      0.91      0.91       256\n",
      "          13       0.98      0.90      0.94       219\n",
      "          14       0.94      0.96      0.95       234\n",
      "          15       0.97      1.00      0.99       261\n",
      "          16       0.80      0.94      0.86       261\n",
      "          17       0.92      0.88      0.90       228\n",
      "          18       0.79      0.73      0.76       259\n",
      "          19       0.74      0.58      0.65       246\n",
      "\n",
      "    accuracy                           0.87      5000\n",
      "   macro avg       0.87      0.87      0.87      5000\n",
      "weighted avg       0.87      0.87      0.87      5000\n",
      "\n"
     ]
    }
   ],
   "source": [
    "from sklearn.naive_bayes import MultinomialNB\n",
    "from sklearn.metrics import classification_report, confusion_matrix\n",
    "clf = MultinomialNB()\n",
    "clf.fit(X_train, Y_train)\n",
    "Y_pred = clf.predict(X_test)\n",
    "print(classification_report(Y_test, Y_pred))"
   ]
  },
  {
   "cell_type": "code",
   "execution_count": 44,
   "metadata": {},
   "outputs": [
    {
     "name": "stdout",
     "output_type": "stream",
     "text": [
      "Accuaracy of inbuilt sklearn's MultinomialNB on the same data is 0.87\n",
      "Our accuarcy is 0.82\n"
     ]
    }
   ],
   "source": [
    "print(\"Accuaracy of inbuilt sklearn's MultinomialNB on the same data is 0.87\")\n",
    "print(\"Our accuarcy is 0.82\")"
   ]
  },
  {
   "cell_type": "code",
   "execution_count": null,
   "metadata": {},
   "outputs": [],
   "source": []
  }
 ],
 "metadata": {
  "kernelspec": {
   "display_name": "Python 3",
   "language": "python",
   "name": "python3"
  },
  "language_info": {
   "codemirror_mode": {
    "name": "ipython",
    "version": 3
   },
   "file_extension": ".py",
   "mimetype": "text/x-python",
   "name": "python",
   "nbconvert_exporter": "python",
   "pygments_lexer": "ipython3",
   "version": "3.7.4"
  }
 },
 "nbformat": 4,
 "nbformat_minor": 2
}
